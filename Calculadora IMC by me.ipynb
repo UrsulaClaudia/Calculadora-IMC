{
 "cells": [
  {
   "cell_type": "markdown",
   "metadata": {},
   "source": [
    "# Calculadora de IMC\n",
    "\n",
    "## Propósito: \n",
    "Quiero construir una calculadora de IMC con Python para demostrar mi habilidad en operaciones básicas en programación con Python.\n",
    "\n",
    "## Esquema del proyecto:\n",
    "1. Calcular el IMC\n",
    "2. Clasificar el IMC\n",
    "\n",
    "# Información sobre el IMC\n",
    "Acerca del índice de masa corporal para adultos.\n",
    "\n",
    "Enlace: https://www.cdc.gov/healthyweight/spanish/assessing/bmi/adult_bmi/index.html#interpreta\n",
    "\n",
    "# Flujograma del programa\n",
    "\n",
    "![Diagrama del proyecto](../Calculadora%20IMC/Calcular%20IMC.png \"Imagen local\")\n",
    "\n",
    "\n",
    "\n",
    "\n"
   ]
  },
  {
   "cell_type": "code",
   "execution_count": 221,
   "metadata": {},
   "outputs": [],
   "source": [
    "def unidadMedida():\n",
    "    print(\"\"\"Unidades de medida disponibles: \n",
    "    1.Kilogramos y metros\n",
    "    2.Libras y pulgadas\"\"\")\n",
    "    \n",
    "    unidad_de_medida = \"\"\n",
    "\n",
    "    opcion = int(input(\"Seleccione su unidad de medida:\"))\n",
    "    \n",
    "    while unidad_de_medida == \"\" :\n",
    "\n",
    "        if opcion == 1:\n",
    "            unidad_de_medida = \"Kilogramos y metros\"\n",
    "            return unidad_de_medida\n",
    "        elif opcion == 2:\n",
    "            unidad_de_medida = \"Libras y pulgadas\"\n",
    "            return unidad_de_medida\n",
    "        else:\n",
    "            opcion = int(input(\"Seleccione su unidad de medida:\"))"
   ]
  },
  {
   "cell_type": "code",
   "execution_count": 222,
   "metadata": {},
   "outputs": [],
   "source": [
    "def solicitarDatos():\n",
    "    unidad_de_medida = unidadMedida()\n",
    "    peso = float(input(\"Ingrese su peso: \"))\n",
    "    altura = float(input(\"Ingrese su altura: \"))\n",
    "    datosUsuario= peso,altura,unidad_de_medida\n",
    "    return datosUsuario\n"
   ]
  },
  {
   "cell_type": "code",
   "execution_count": 223,
   "metadata": {},
   "outputs": [],
   "source": [
    "def calcularIMC(datosUsuario):\n",
    "    peso,altura,unidad_de_medida=datosUsuario\n",
    "    imc = 0\n",
    "    if unidad_de_medida == \"Kilogramos y metros\":\n",
    "        imc = peso / altura**2\n",
    "    elif unidad_de_medida == \"Libras y pulgadas\":\n",
    "        imc = peso / altura**2 * 703\n",
    "    return imc"
   ]
  },
  {
   "cell_type": "code",
   "execution_count": 224,
   "metadata": {},
   "outputs": [],
   "source": [
    "def lines():\n",
    "    return print(\"-\"*50)"
   ]
  },
  {
   "cell_type": "code",
   "execution_count": 225,
   "metadata": {},
   "outputs": [],
   "source": [
    "def interpretarIMC(imc):\n",
    "    nivel_de_peso = \"\"\n",
    "    if imc < 18.5:\n",
    "        nivel_de_peso = \"Bajo de peso\"\n",
    "    elif 18.5 <= imc < 25:\n",
    "        nivel_de_peso = \"Normal\"\n",
    "    elif 25 <= imc < 30:\n",
    "        nivel_de_peso = \"Sobrepeso\"\n",
    "    else:\n",
    "        nivel_de_peso = \"Obesidad\"\n",
    "    return nivel_de_peso"
   ]
  },
  {
   "cell_type": "code",
   "execution_count": 226,
   "metadata": {},
   "outputs": [],
   "source": [
    "def mostrarResultado(datosUsuario,valorIMC,resultadoIMC):\n",
    "    peso,altura,unidad_de_medida=datosUsuario\n",
    "    valorIMC = round(valorIMC,2)\n",
    "    lines()\n",
    "    print(\"Resultados\")\n",
    "    lines()\n",
    "    if unidad_de_medida == \"Kilogramos y metros\":\n",
    "        print(f\"Unidad de medida utilizada: {unidad_de_medida}\")\n",
    "        print(f\"Peso: {peso} kg.\")\n",
    "        print(f\"Altura: {altura} m.\")\n",
    "        print(f\"IMC: {valorIMC}\")\n",
    "        print(f\"Categoría de IMC: {resultadoIMC}\")\n",
    "    elif unidad_de_medida == \"Libras y pulgadas\":\n",
    "        print(f\"Unidad de medida utilizada: {unidad_de_medida}\")\n",
    "        print(f\"Peso: {peso} lb.\")\n",
    "        print(f\"Altura: {altura} in.\")\n",
    "        print(f\"IMC: {valorIMC}\")\n",
    "        print(f\"Categoría de IMC: {resultadoIMC}\")"
   ]
  },
  {
   "cell_type": "code",
   "execution_count": 227,
   "metadata": {},
   "outputs": [
    {
     "name": "stdout",
     "output_type": "stream",
     "text": [
      "--------------------------------------------------\n",
      "Bienvenido a la Calculadora de IMC\n",
      "--------------------------------------------------\n",
      "Unidades de medida disponibles: \n",
      "    1.Kilogramos y metros\n",
      "    2.Libras y pulgadas\n",
      "--------------------------------------------------\n",
      "Resultados\n",
      "--------------------------------------------------\n",
      "Unidad de medida utilizada: Kilogramos y metros\n",
      "Peso: 50.0 kg.\n",
      "Altura: 1.6 m.\n",
      "IMC: 19.53\n",
      "Categoría de IMC: Normal\n"
     ]
    }
   ],
   "source": [
    "lines()\n",
    "print(\"Bienvenido a la Calculadora de IMC\")\n",
    "lines()\n",
    "datosUsuario = solicitarDatos()\n",
    "valorIMC = calcularIMC(datosUsuario)\n",
    "resultadoIMC = interpretarIMC(valorIMC)\n",
    "mostrarResultado(datosUsuario,valorIMC,resultadoIMC)\n"
   ]
  }
 ],
 "metadata": {
  "kernelspec": {
   "display_name": "base",
   "language": "python",
   "name": "python3"
  },
  "language_info": {
   "codemirror_mode": {
    "name": "ipython",
    "version": 3
   },
   "file_extension": ".py",
   "mimetype": "text/x-python",
   "name": "python",
   "nbconvert_exporter": "python",
   "pygments_lexer": "ipython3",
   "version": "3.11.7"
  }
 },
 "nbformat": 4,
 "nbformat_minor": 2
}
