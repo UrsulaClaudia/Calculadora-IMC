{
 "cells": [
  {
   "cell_type": "markdown",
   "id": "5d04bd80-1ae9-4013-9ef8-087f6572943c",
   "metadata": {},
   "source": [
    "# Calculadora de Índice de Masa Corporal (IMC)\n",
    "\n",
    "## Objetivo: \n",
    "\n",
    "Crear un programa que permita calcular el IMC de una persona y brindar información sobre su clasificación.\n",
    "\n",
    "## Características principales:\n",
    "\n",
    "1. Solicitar al usuario su peso (en kilogramos) y altura (en metros).\n",
    "   \n",
    "2. Calcular el IMC usando la fórmula IMC = peso / altura ** 2.\n",
    "   \n",
    "3. Clasificar el resultado en una de las siguientes categorías:\n",
    " \n",
    "    * Bajo peso: IMC < 18.5\n",
    "    * Normal: 18.5 ≤ IMC < 24.9\n",
    "    * Sobrepeso: 25 ≤ IMC < 29.9\n",
    "    * Obesidad: IMC ≥ 30\n",
    "  \n",
    "4. Permitir al usuario calcular otro IMC o salir del programa."
   ]
  },
  {
   "cell_type": "markdown",
   "id": "9e49a102-62ae-4880-a89b-8301c6bd3b1f",
   "metadata": {},
   "source": [
    "## Funcionalidad\n",
    "\n",
    "### Entradas:\n",
    "\n",
    "* Peso del usuario.\n",
    "  \n",
    "* Altura del usuario.\n",
    "\n",
    "### Salidas:\n",
    "\n",
    "* Valor calculado del IMC.\n",
    "\n",
    "* Categoría de clasificación del IMC.\n",
    "  \n",
    "### Proceso:\n",
    "\n",
    "1. Pedir los datos al usuario.\n",
    "\n",
    "2. Validar que las entradas sean números positivos.\n",
    "\n",
    "3. Calcular el IMC.\n",
    "\n",
    "4. Determinar la categoría.\n",
    "\n",
    "5. Mostrar el resultado.\n",
    "\n",
    "6. Preguntar al usuario si desea realizar otra operación o salir."
   ]
  },
  {
   "cell_type": "markdown",
   "id": "932922f1-a738-4d45-9a51-91052d67f943",
   "metadata": {},
   "source": [
    "## Funciones del código\n",
    "\n",
    "1. clasificar_imc(imc)\n",
    "\n",
    "2. calcular_imc(peso, altura)\n",
    "      \n",
    "3. pedir_datos()\n",
    "\n",
    "4. main()"
   ]
  },
  {
   "cell_type": "code",
   "execution_count": 72,
   "id": "a4d5cda8-1626-4dd9-b1ed-f8fc688b3f84",
   "metadata": {},
   "outputs": [],
   "source": [
    "def calcular_imc(peso, altura):\n",
    "    return peso / (altura ** 2)"
   ]
  },
  {
   "cell_type": "code",
   "execution_count": 73,
   "id": "83cbb2d2-598b-4188-b48e-7f00effa7012",
   "metadata": {},
   "outputs": [],
   "source": [
    "def clasificar_imc(imc):\n",
    "    if imc < 18.5:\n",
    "        return \"Bajo peso\"\n",
    "    elif 18.5 <= imc < 24.9:\n",
    "        return \"Normal\"\n",
    "    elif 25 <= imc < 29.9:\n",
    "        return \"Sobrepeso\"\n",
    "    else:\n",
    "        return \"Obesidad\""
   ]
  },
  {
   "cell_type": "code",
   "execution_count": 74,
   "id": "d71483de-da95-40e7-beb8-21ae9250ce61",
   "metadata": {},
   "outputs": [],
   "source": [
    "def pedir_datos():\n",
    "    while True:\n",
    "        try:\n",
    "            peso = float(input(\"Ingrese su peso en kilogramos: \"))\n",
    "            altura = float(input(\"Ingrese su altura en metros: \"))\n",
    "            if peso <= 0 or altura <= 0:\n",
    "                print(\"Por favor, ingrese valores positivos.\")\n",
    "                continue\n",
    "            return peso, altura\n",
    "        except ValueError:\n",
    "            print(\"Entrada no válida. Intente de nuevo.\")"
   ]
  },
  {
   "cell_type": "code",
   "execution_count": 81,
   "id": "af7fef89-ea74-4a13-bee4-35c2e7e3c082",
   "metadata": {},
   "outputs": [],
   "source": [
    "def main():\n",
    "    print(\"Bienvenido a la Calculadora de IMC\")\n",
    "    while True:\n",
    "        peso, altura = pedir_datos()\n",
    "        imc = calcular_imc(peso, altura)\n",
    "        clasificacion = clasificar_imc(imc)\n",
    "        print(f\"Su IMC es: {imc:.2f}\")\n",
    "        print(f\"Clasificación: {clasificacion}\")\n",
    "        \n",
    "        repetir = input(\"¿Desea calcular otro IMC? (s/n): \").lower()\n",
    "        if repetir != 's':\n",
    "            print(\"Gracias por usar la Calculadora de IMC. ¡Hasta luego!\")\n",
    "            break"
   ]
  },
  {
   "cell_type": "code",
   "execution_count": 85,
   "id": "e6f903aa-cfe0-4468-b3d6-7e6c6765241a",
   "metadata": {},
   "outputs": [
    {
     "name": "stdout",
     "output_type": "stream",
     "text": [
      "Bienvenido a la Calculadora de IMC\n"
     ]
    },
    {
     "name": "stdin",
     "output_type": "stream",
     "text": [
      "Ingrese su peso en kilogramos:  150\n",
      "Ingrese su altura en metros:  50\n"
     ]
    },
    {
     "name": "stdout",
     "output_type": "stream",
     "text": [
      "Su IMC es: 0.06\n",
      "Clasificación: Bajo peso\n"
     ]
    },
    {
     "name": "stdin",
     "output_type": "stream",
     "text": [
      "¿Desea calcular otro IMC? (s/n):  s\n",
      "Ingrese su peso en kilogramos:  100\n",
      "Ingrese su altura en metros:  150\n"
     ]
    },
    {
     "name": "stdout",
     "output_type": "stream",
     "text": [
      "Su IMC es: 0.00\n",
      "Clasificación: Bajo peso\n"
     ]
    },
    {
     "name": "stdin",
     "output_type": "stream",
     "text": [
      "¿Desea calcular otro IMC? (s/n):  s\n",
      "Ingrese su peso en kilogramos:  50\n",
      "Ingrese su altura en metros:  1.58\n"
     ]
    },
    {
     "name": "stdout",
     "output_type": "stream",
     "text": [
      "Su IMC es: 20.03\n",
      "Clasificación: Normal\n"
     ]
    },
    {
     "name": "stdin",
     "output_type": "stream",
     "text": [
      "¿Desea calcular otro IMC? (s/n):  c-\n"
     ]
    },
    {
     "name": "stdout",
     "output_type": "stream",
     "text": [
      "Gracias por usar la Calculadora de IMC. ¡Hasta luego!\n"
     ]
    }
   ],
   "source": [
    "if __name__ == \"__main__\":\n",
    "    main()"
   ]
  },
  {
   "cell_type": "code",
   "execution_count": null,
   "id": "0831f924-1d40-4822-bb78-60bbec8bedce",
   "metadata": {},
   "outputs": [],
   "source": []
  }
 ],
 "metadata": {
  "kernelspec": {
   "display_name": "Python 3 (ipykernel)",
   "language": "python",
   "name": "python3"
  },
  "language_info": {
   "codemirror_mode": {
    "name": "ipython",
    "version": 3
   },
   "file_extension": ".py",
   "mimetype": "text/x-python",
   "name": "python",
   "nbconvert_exporter": "python",
   "pygments_lexer": "ipython3",
   "version": "3.11.7"
  }
 },
 "nbformat": 4,
 "nbformat_minor": 5
}
